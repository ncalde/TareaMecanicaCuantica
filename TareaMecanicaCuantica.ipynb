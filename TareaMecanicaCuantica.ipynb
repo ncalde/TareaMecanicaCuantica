{
 "cells": [
  {
   "cell_type": "markdown",
   "id": "split-adventure",
   "metadata": {},
   "source": [
    "<center>  Mecánica cuántica para ingeniería</center>\n",
    "<center>Tarea 2</center>\n",
    "<center> Natalia Calderón Barboza 2019035434</center>"
   ]
  },
  {
   "cell_type": "markdown",
   "id": "hungry-thong",
   "metadata": {},
   "source": [
    "# Problema 1: Bosquejo de la función de onda y nivel de energía para el oscilador armónico cuántico"
   ]
  },
  {
   "cell_type": "markdown",
   "id": "guided-wedding",
   "metadata": {},
   "source": [
    "## Importación de bibliotecas\n"
   ]
  },
  {
   "cell_type": "markdown",
   "id": "circular-vinyl",
   "metadata": {},
   "source": [
    "Se importan las bibliotecas necesarias:\n",
    "* *numpy* para el cálculo numérico\n",
    "* *scipy* para el cálculo numérico de derivadas y factoriales\n",
    "* *matplotlib* para la graficación de la función de onda\n",
    "* *ipywidgets* y *IPython.display* para la interactividad de la gráfica"
   ]
  },
  {
   "cell_type": "code",
   "execution_count": 1,
   "id": "revolutionary-investigation",
   "metadata": {},
   "outputs": [],
   "source": [
    "import numpy as np\n",
    "from scipy.misc import derivative\n",
    "from scipy.special import factorial\n",
    "import matplotlib.pyplot as plt\n",
    "\n",
    "import ipywidgets as widgets\n",
    "from ipywidgets import interactive\n",
    "from IPython.display import display"
   ]
  },
  {
   "cell_type": "markdown",
   "id": "serial-ordering",
   "metadata": {},
   "source": [
    "## Definición de variables globales"
   ]
  },
  {
   "cell_type": "markdown",
   "id": "primary-neighbor",
   "metadata": {},
   "source": [
    "Se definieron todas las constantes en unidades atómicas de Hartree:\n",
    "\n",
    "* la constante reducida de Plank y la masa del electrón son iguales a la unidad\n",
    "* se consideró una constante elástica de magnitud igual a 1\n"
   ]
  },
  {
   "cell_type": "code",
   "execution_count": 2,
   "id": "efficient-southeast",
   "metadata": {},
   "outputs": [],
   "source": [
    "hbarra = 1 # constante de Plank reducida\n",
    "m = 1  # masa del electrón\n",
    "k = 1  # constante elástica\n",
    "w = (k / m) ** (1 / 2)  # frecuencia angular Ecuación 2.41 del Griffiths"
   ]
  },
  {
   "cell_type": "markdown",
   "id": "respiratory-swimming",
   "metadata": {},
   "source": [
    "## Definición de funciones"
   ]
  },
  {
   "cell_type": "code",
   "execution_count": 3,
   "id": "prompt-botswana",
   "metadata": {},
   "outputs": [],
   "source": [
    "def Psi0(x):\n",
    "    \"\"\"\n",
    "    Evalúa la función de onda del estado base de la partícula para el x dado\n",
    "    Entrada:\n",
    "        x: posiciones a evaluar (array)\n",
    "    Salida:\n",
    "        psi0: función de onda del estado base evaluada en x (array)\n",
    "    \"\"\"\n",
    "    psi0 = (m*w/(np.pi*hbarra))**(1/4) * np.exp(-m*w*x**2/(2*hbarra))\n",
    "    return psi0\n",
    "\n",
    "def PsiN(x, n):\n",
    "    \"\"\"\n",
    "    Calcula la función de onda no normalizada para el estado n de la partícula empleando recursivamente el operador de subida\n",
    "    Entradas:\n",
    "        x: posiciones a evaluar (array)\n",
    "        n: nivel de energía (int)\n",
    "    Salida:\n",
    "        operadorSubidaPsi: operador de subida aplicado sobre la función de onda (array)\n",
    "                           finalmente regresa PsiN sin normalizar (array)\n",
    "    \"\"\"\n",
    "    if n == 0:\n",
    "        #\n",
    "        return Psi0(x)\n",
    "    else:\n",
    "        operadorSubidaPsi = (-hbarra*derivative(PsiN, x, args=[n-1]) + m*w*x*PsiN(x, n-1))*1/(np.sqrt(2*hbarra*m*w)) # Ecuación 2.47 del Griffiths\n",
    "        return operadorSubidaPsi\n",
    "\n",
    "def NivelEnergia(n):\n",
    "    \"\"\"\n",
    "    Calcula la energía del estado n.\n",
    "    Entrada:\n",
    "        n: nivel de energía (int)\n",
    "    Salida:\n",
    "        E: valor numérico de la energía para ese estado (float)\n",
    "    \"\"\"\n",
    "    E = hbarra * w * (n + 1 / 2) # Ecuación 2.61 del Griffiths\n",
    "    return E\n",
    "\n",
    "def Graficar(n):\n",
    "    \"\"\"\n",
    "    Grafica la función de onda de la partícula para un estado de energía n\n",
    "    Entrada:\n",
    "        n: nivel de energía (int)\n",
    "    Salida:\n",
    "        NA\n",
    "    \"\"\"\n",
    "    print(\"Nivel de energía de la partícula: \" + str(NivelEnergia(n)))\n",
    "    \n",
    "    x = np.linspace(-10,10,10000)\n",
    "    fig, ax = plt.subplots()\n",
    "    ax.plot(x, PsiN(x,n)/np.sqrt(factorial(n)), c='m')\n",
    "\n",
    "    ax.set_xlabel('x')\n",
    "    ax.set_ylabel('Psi_n')\n",
    "    ax.set_title('Función de onda de la partícula en el potencial cuadrático unidimensional')\n",
    "\n",
    "    plt.show()\n"
   ]
  },
  {
   "cell_type": "code",
   "execution_count": 4,
   "id": "included-royal",
   "metadata": {},
   "outputs": [
    {
     "data": {
      "application/vnd.jupyter.widget-view+json": {
       "model_id": "ee81605265e247eb849e1b22995d03be",
       "version_major": 2,
       "version_minor": 0
      },
      "text/plain": [
       "interactive(children=(IntSlider(value=2, description='n:', max=5), Output()), _dom_classes=('widget-interact',…"
      ]
     },
     "metadata": {},
     "output_type": "display_data"
    }
   ],
   "source": [
    "y=interactive(Graficar, {'manual': False }, n=widgets.IntSlider(min=0, max=5, step=1,\n",
    "                                                value=2, description='n:'), )\n",
    "display(y)"
   ]
  },
  {
   "cell_type": "markdown",
   "id": "clear-colombia",
   "metadata": {},
   "source": [
    "# Problema 2 Evolución de una partícula libre en el tiempo"
   ]
  },
  {
   "cell_type": "markdown",
   "id": "recent-netscape",
   "metadata": {},
   "source": [
    "# "
   ]
  },
  {
   "cell_type": "markdown",
   "id": "relative-question",
   "metadata": {},
   "source": [
    "Basado en el problema 2.22 del Griffiths, la función de onda de la partícula está dada por:\n",
    "\n",
    "[1] $$\\Psi={1\\over{\\sqrt{2\\pi}}} \\int\\limits_{-\\infty}^{\\infty}dk\\,e^{-k^2/4a} e^ {i \\left(k x -\\frac{\\hbar k^2}{2 m}t\\right)} \n",
    "= \\left( \\frac{2a}{\\pi} \\right) ^{1/4} \\frac {e^{-ax^2/(1+2i\\hbar a t/m)}}{\\sqrt{1+2i \\hbar a t/m}}$$\n",
    "\n",
    "Como la función de onda es compleja, se decidió gráficar la norma:\n",
    "\n",
    "[2] $$|\\Psi|^2=\\sqrt{2a\\over\\pi}\\frac{e^{-2ax^2/(1+\\theta^2)}}{\\sqrt{1+\\theta^2}}$$\n",
    "\n",
    "Con: \n",
    "\n",
    " [3] $$\\theta=2\\hbar a t/m$$\n",
    "\n",
    "Definiendo:\n",
    "\n",
    " [4] $$w=\\sqrt{\\frac{a}{1+\\theta^2}}$$\n",
    "\n",
    "Se obtiene:\n",
    "\n",
    "[5] $$|\\Psi|^2=\\sqrt{\\frac{2}{\\pi}}we^{-2w^2x^2}$$\n"
   ]
  },
  {
   "cell_type": "markdown",
   "id": "aggregate-receptor",
   "metadata": {},
   "source": [
    "## Importación de bibliotecas"
   ]
  },
  {
   "cell_type": "markdown",
   "id": "narrow-participation",
   "metadata": {},
   "source": [
    "Se importan las bibliotecas necesarias:\n",
    "* *numpy* para el cálculo numérico\n",
    "* *matplotlib* para la graficación de la probabilidad\n",
    "* *ipywidgets* y *IPython.display* para la interactividad de la gráfica."
   ]
  },
  {
   "cell_type": "code",
   "execution_count": 5,
   "id": "adverse-blogger",
   "metadata": {},
   "outputs": [],
   "source": [
    "import numpy as np\n",
    "import matplotlib.pyplot as plt\n",
    "\n",
    "import ipywidgets as widgets\n",
    "from ipywidgets import interactive\n",
    "from IPython.display import display"
   ]
  },
  {
   "cell_type": "markdown",
   "id": "dental-sixth",
   "metadata": {},
   "source": [
    "## Definición de variables globales"
   ]
  },
  {
   "cell_type": "markdown",
   "id": "classical-upset",
   "metadata": {},
   "source": [
    "Se definen las constantes del problema en unidades del Sistema Internacional:\n",
    "* La constante $a$ (se consideró igual a 1)\n",
    "* La constante de Planck reducida $h / 2\\pi$\n",
    "* La masa de la partícula $m$ (se utilizó la masa de un electrón)\n",
    "\n",
    "Se definen las variables necesarias para la graficación:\n",
    "* La longitud del semi-intervalo en x\n",
    "* La cantidad de puntos en x a utilizar"
   ]
  },
  {
   "cell_type": "code",
   "execution_count": 6,
   "id": "lovely-cathedral",
   "metadata": {},
   "outputs": [],
   "source": [
    "a = 1 #constante\n",
    "hbarraSI = 1.0545718 * 10**(-34) #Js\n",
    "mSI = 9.1093829 * 10**(-31) #kg\n",
    "\n",
    "Lx = 5 #m Semi-intervalo x\n",
    "puntosX = 1000 # Cantidad de puntos en x para la graficación"
   ]
  },
  {
   "cell_type": "markdown",
   "id": "scenic-contemporary",
   "metadata": {},
   "source": [
    "## Definición de funciones"
   ]
  },
  {
   "cell_type": "code",
   "execution_count": 7,
   "id": "acoustic-architect",
   "metadata": {},
   "outputs": [],
   "source": [
    "def CalcularPsi2(x,t):\n",
    "    \"\"\"\n",
    "    Calcula el valor de psi2 según la ecuación ###\n",
    "    Entradas:\n",
    "        x: posición (m)\n",
    "        t: tiempo (s)\n",
    "    Salida:\n",
    "        psi2: norma de la función de onda / probabilidad de encontrar la partícula en (x,t)\n",
    "    \"\"\"\n",
    "    theta = (2*hbarraSI*a*t) / mSI # Ecuación [3]\n",
    "    w = np.sqrt(a/(1+theta**2)) # Ecuación [4]\n",
    "    psi2 = np.sqrt(2/np.pi)*w*np.exp(-2*(x*w)**2) # Ecuación [5]\n",
    "\n",
    "    return psi2"
   ]
  },
  {
   "cell_type": "code",
   "execution_count": 8,
   "id": "annoying-delivery",
   "metadata": {},
   "outputs": [],
   "source": [
    "def GraficarPsi2(t):\n",
    "    \"\"\"\n",
    "    Grafica la norma de la función de onda para el valor de tiempo indicado\n",
    "    Entrada:\n",
    "        t: tiempo (s)\n",
    "    Salida:\n",
    "        NA\n",
    "    \"\"\"\n",
    "    x = np.linspace(-Lx,Lx,puntosX)\n",
    "    psi2 = CalcularPsi2(x,t)\n",
    "    \n",
    "    #Graficación\n",
    "\n",
    "    fig, ax = plt.subplots()\n",
    "    plt.ylim(0, 1)\n",
    "    ax.plot(x, psi2, c='m')\n",
    "    ax.fill_between(x, psi2, facecolor='m', alpha=0.2)\n",
    "    \n",
    "    ax.set_xlabel('x')\n",
    "    ax.set_ylabel('Probabilidad')\n",
    "    ax.set_title('Probabilidad de encontrar la partícula en el tiempo t')\n",
    "    \n",
    "    plt.show()"
   ]
  },
  {
   "cell_type": "markdown",
   "id": "hawaiian-racing",
   "metadata": {},
   "source": [
    "## Main"
   ]
  },
  {
   "cell_type": "markdown",
   "id": "sought-expert",
   "metadata": {},
   "source": [
    "El main consiste en llamar a la función GraficarPsi2(t) utilizando un widget para la selección del valor de t."
   ]
  },
  {
   "cell_type": "code",
   "execution_count": 9,
   "id": "miniature-communist",
   "metadata": {},
   "outputs": [
    {
     "data": {
      "application/vnd.jupyter.widget-view+json": {
       "model_id": "1342b02ba4f843c7ac8853cce999fb2d",
       "version_major": 2,
       "version_minor": 0
      },
      "text/plain": [
       "interactive(children=(IntSlider(value=0, description='t (en s):', max=50000, step=25), Output()), _dom_classes…"
      ]
     },
     "metadata": {},
     "output_type": "display_data"
    }
   ],
   "source": [
    "y=interactive(GraficarPsi2, {'manual': False }, t=widgets.IntSlider(min=0.0, max=50000.0, step=25,\n",
    "                                                value=0.0, description='t (en s):'), )\n",
    "display(y)"
   ]
  }
 ],
 "metadata": {
  "kernelspec": {
   "display_name": "Python 3",
   "language": "python",
   "name": "python3"
  },
  "language_info": {
   "codemirror_mode": {
    "name": "ipython",
    "version": 3
   },
   "file_extension": ".py",
   "mimetype": "text/x-python",
   "name": "python",
   "nbconvert_exporter": "python",
   "pygments_lexer": "ipython3",
   "version": "3.8.3"
  }
 },
 "nbformat": 4,
 "nbformat_minor": 5
}
